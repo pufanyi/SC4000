{
 "cells": [
  {
   "cell_type": "markdown",
   "id": "f144fc9e",
   "metadata": {},
   "source": [
    "# Final Submission"
   ]
  },
  {
   "cell_type": "markdown",
   "id": "e42a23be",
   "metadata": {},
   "source": [
    "[Training Code](https://github.com/pufanyi/SC4000/tree/main) / [Report](https://pufanyi.github.io/SC4000/report/main.pdf)"
   ]
  },
  {
   "cell_type": "markdown",
   "id": "905a2143",
   "metadata": {},
   "source": [
    "## Submission Guidelines\n",
    "\n",
    "Please add below datasets (models) to the input when submitting the final submission.\n",
    "\n",
    "1. [MobileNetV3](https://www.kaggle.com/datasets/pufanyi/cropnet-mobilenetv3/)\n",
    "2. [ConvNeXtV2](https://www.kaggle.com/datasets/pufanyi/sc4000-convnext-v2-base/)\n",
    "3. [ViT](https://www.kaggle.com/datasets/pufanyi/sc4000-vit-large)"
   ]
  },
  {
   "cell_type": "code",
   "execution_count": 1,
   "id": "b33c1b48",
   "metadata": {
    "execution": {
     "iopub.execute_input": "2024-11-20T07:06:12.285306Z",
     "iopub.status.busy": "2024-11-20T07:06:12.284995Z",
     "iopub.status.idle": "2024-11-20T07:06:31.148086Z",
     "shell.execute_reply": "2024-11-20T07:06:31.147393Z"
    },
    "papermill": {
     "duration": 18.875225,
     "end_time": "2024-11-20T07:06:31.150163",
     "exception": false,
     "start_time": "2024-11-20T07:06:12.274938",
     "status": "completed"
    },
    "tags": []
   },
   "outputs": [],
   "source": [
    "from transformers import AutoImageProcessor, AutoModelForImageClassification\n",
    "import torch.nn.functional as F\n",
    "import numpy as np\n",
    "import PIL\n",
    "import torch\n",
    "from pathlib import Path\n",
    "import pandas as pd\n",
    "from torch.utils.data import Dataset, DataLoader\n",
    "from torchvision.transforms import Compose, Normalize, Resize, CenterCrop, ToTensor\n",
    "import gc\n",
    "from numba import cuda\n",
    "\n",
    "id2label = {\n",
    "    0: \"Cassava Bacterial Blight (CBB)\",\n",
    "    1: \"Cassava Brown Streak Disease (CBSD)\",\n",
    "    2: \"Cassava Green Mottle (CGM)\",\n",
    "    3: \"Cassava Mosaic Disease (CMD)\",\n",
    "    4: \"Healthy\",\n",
    "}\n",
    "label2id = {\n",
    "    \"Cassava Bacterial Blight (CBB)\": 0,\n",
    "    \"Cassava Brown Streak Disease (CBSD)\": 1,\n",
    "    \"Cassava Green Mottle (CGM)\": 2,\n",
    "    \"Cassava Mosaic Disease (CMD)\": 3,\n",
    "    \"Healthy\": 4,\n",
    "}\n",
    "\n",
    "folder = Path(\"/kaggle/input/cassava-leaf-disease-classification/test_images\")"
   ]
  },
  {
   "cell_type": "markdown",
   "id": "1990771b",
   "metadata": {
    "papermill": {
     "duration": 0.004019,
     "end_time": "2024-11-20T07:06:31.158800",
     "exception": false,
     "start_time": "2024-11-20T07:06:31.154781",
     "status": "completed"
    },
    "tags": []
   },
   "source": [
    "# ViT full"
   ]
  },
  {
   "cell_type": "code",
   "execution_count": 2,
   "id": "5806a601",
   "metadata": {
    "execution": {
     "iopub.execute_input": "2024-11-20T07:06:31.168970Z",
     "iopub.status.busy": "2024-11-20T07:06:31.168428Z",
     "iopub.status.idle": "2024-11-20T07:06:35.625591Z",
     "shell.execute_reply": "2024-11-20T07:06:35.624640Z"
    },
    "papermill": {
     "duration": 4.464487,
     "end_time": "2024-11-20T07:06:35.627615",
     "exception": false,
     "start_time": "2024-11-20T07:06:31.163128",
     "status": "completed"
    },
    "tags": []
   },
   "outputs": [],
   "source": [
    "model_path = \"/kaggle/input/sc4000-vit-large/models\"\n",
    "\n",
    "model = AutoModelForImageClassification.from_pretrained(\n",
    "    model_path,\n",
    "    id2label=id2label,\n",
    "    label2id=label2id,\n",
    "    ignore_mismatched_sizes=True,\n",
    ")\n",
    "image_processor = AutoImageProcessor.from_pretrained(model_path)"
   ]
  },
  {
   "cell_type": "code",
   "execution_count": 3,
   "id": "19f509a3",
   "metadata": {
    "execution": {
     "iopub.execute_input": "2024-11-20T07:06:35.638505Z",
     "iopub.status.busy": "2024-11-20T07:06:35.638217Z",
     "iopub.status.idle": "2024-11-20T07:06:35.644710Z",
     "shell.execute_reply": "2024-11-20T07:06:35.643913Z"
    },
    "papermill": {
     "duration": 0.013089,
     "end_time": "2024-11-20T07:06:35.646267",
     "exception": false,
     "start_time": "2024-11-20T07:06:35.633178",
     "status": "completed"
    },
    "tags": []
   },
   "outputs": [],
   "source": [
    "class CassavaDatasetViT(Dataset):\n",
    "    def __init__(self, folder, image_processor):\n",
    "        self.folder = folder\n",
    "        self.image_processor = image_processor\n",
    "        self.image_paths = list(folder.glob(\"*\"))\n",
    "        self.image_mean, self.image_std = (\n",
    "            self.image_processor.image_mean,\n",
    "            self.image_processor.image_std,\n",
    "        )\n",
    "        size = self.image_processor.size[\"height\"]\n",
    "        normalize = Normalize(mean=self.image_mean, std=self.image_std)\n",
    "        self.test_transforms = Compose(\n",
    "            [\n",
    "                Resize(size),\n",
    "                CenterCrop(size),\n",
    "                ToTensor(),\n",
    "                normalize,\n",
    "            ]\n",
    "        )\n",
    "\n",
    "    def __len__(self):\n",
    "        return len(self.image_paths)\n",
    "\n",
    "    def __getitem__(self, idx):\n",
    "        image_path = self.image_paths[idx]\n",
    "        with PIL.Image.open(image_path) as image:\n",
    "            inputs = self.test_transforms(image.convert(\"RGB\"))\n",
    "        return inputs, image_path.name"
   ]
  },
  {
   "cell_type": "code",
   "execution_count": 4,
   "id": "d0a5a7c4",
   "metadata": {
    "execution": {
     "iopub.execute_input": "2024-11-20T07:06:35.656115Z",
     "iopub.status.busy": "2024-11-20T07:06:35.655578Z",
     "iopub.status.idle": "2024-11-20T07:06:50.961660Z",
     "shell.execute_reply": "2024-11-20T07:06:50.960862Z"
    },
    "papermill": {
     "duration": 15.313327,
     "end_time": "2024-11-20T07:06:50.963777",
     "exception": false,
     "start_time": "2024-11-20T07:06:35.650450",
     "status": "completed"
    },
    "tags": []
   },
   "outputs": [],
   "source": [
    "vit_outputs = []\n",
    "\n",
    "dataset = CassavaDatasetViT(folder, image_processor)\n",
    "dataloader = DataLoader(dataset, batch_size=16)\n",
    "\n",
    "device = torch.device(\"cuda\" if torch.cuda.is_available() else \"cpu\")\n",
    "model.to(device)\n",
    "model.eval()\n",
    "\n",
    "with torch.no_grad():\n",
    "    for batch, image_names in dataloader:\n",
    "        outputs = model(batch.to(device))\n",
    "        probabilities = F.softmax(outputs.logits, dim=-1).cpu().numpy()\n",
    "\n",
    "        vit_outputs.extend(\n",
    "            {\"image_id\": image_name, \"output\": output}\n",
    "            for image_name, output in zip(image_names, probabilities)\n",
    "        )"
   ]
  },
  {
   "cell_type": "code",
   "execution_count": 5,
   "id": "2469e51d",
   "metadata": {
    "execution": {
     "iopub.execute_input": "2024-11-20T07:06:50.974349Z",
     "iopub.status.busy": "2024-11-20T07:06:50.974055Z",
     "iopub.status.idle": "2024-11-20T07:06:50.977867Z",
     "shell.execute_reply": "2024-11-20T07:06:50.977229Z"
    },
    "papermill": {
     "duration": 0.011077,
     "end_time": "2024-11-20T07:06:50.979323",
     "exception": false,
     "start_time": "2024-11-20T07:06:50.968246",
     "status": "completed"
    },
    "tags": []
   },
   "outputs": [],
   "source": [
    "vit_outputs = {x[\"image_id\"]: x[\"output\"] for x in vit_outputs}"
   ]
  },
  {
   "cell_type": "code",
   "execution_count": 6,
   "id": "b6c623a9",
   "metadata": {
    "execution": {
     "iopub.execute_input": "2024-11-20T07:06:50.988419Z",
     "iopub.status.busy": "2024-11-20T07:06:50.988167Z",
     "iopub.status.idle": "2024-11-20T07:06:52.529493Z",
     "shell.execute_reply": "2024-11-20T07:06:52.528817Z"
    },
    "papermill": {
     "duration": 1.548248,
     "end_time": "2024-11-20T07:06:52.531659",
     "exception": false,
     "start_time": "2024-11-20T07:06:50.983411",
     "status": "completed"
    },
    "tags": []
   },
   "outputs": [],
   "source": [
    "model.cpu()\n",
    "del model\n",
    "gc.collect()\n",
    "torch.cuda.empty_cache()"
   ]
  },
  {
   "cell_type": "markdown",
   "id": "41d3f955",
   "metadata": {
    "papermill": {
     "duration": 0.003953,
     "end_time": "2024-11-20T07:06:52.540285",
     "exception": false,
     "start_time": "2024-11-20T07:06:52.536332",
     "status": "completed"
    },
    "tags": []
   },
   "source": [
    "# ConvNeXt-V2 Base"
   ]
  },
  {
   "cell_type": "code",
   "execution_count": 7,
   "id": "d51412a4",
   "metadata": {
    "execution": {
     "iopub.execute_input": "2024-11-20T07:06:52.549497Z",
     "iopub.status.busy": "2024-11-20T07:06:52.549217Z",
     "iopub.status.idle": "2024-11-20T07:06:54.038816Z",
     "shell.execute_reply": "2024-11-20T07:06:54.038147Z"
    },
    "papermill": {
     "duration": 1.496451,
     "end_time": "2024-11-20T07:06:54.040780",
     "exception": false,
     "start_time": "2024-11-20T07:06:52.544329",
     "status": "completed"
    },
    "tags": []
   },
   "outputs": [],
   "source": [
    "model_path = \"/kaggle/input/sc4000-convnext-v2-base/models\"\n",
    "model = AutoModelForImageClassification.from_pretrained(\n",
    "    model_path,\n",
    "    id2label=id2label,\n",
    "    label2id=label2id,\n",
    "    ignore_mismatched_sizes=True,\n",
    ")\n",
    "image_processor = AutoImageProcessor.from_pretrained(model_path)"
   ]
  },
  {
   "cell_type": "code",
   "execution_count": 8,
   "id": "ec899aa0",
   "metadata": {
    "execution": {
     "iopub.execute_input": "2024-11-20T07:06:54.050482Z",
     "iopub.status.busy": "2024-11-20T07:06:54.050219Z",
     "iopub.status.idle": "2024-11-20T07:06:54.056041Z",
     "shell.execute_reply": "2024-11-20T07:06:54.055374Z"
    },
    "papermill": {
     "duration": 0.012407,
     "end_time": "2024-11-20T07:06:54.057720",
     "exception": false,
     "start_time": "2024-11-20T07:06:54.045313",
     "status": "completed"
    },
    "tags": []
   },
   "outputs": [],
   "source": [
    "class CassavaDatasetConvNeXtV2(Dataset):\n",
    "    def __init__(self, folder, image_processor):\n",
    "        self.folder = folder\n",
    "        self.image_processor = image_processor\n",
    "        self.image_paths = list(folder.glob(\"*\"))\n",
    "        self.image_mean, self.image_std = (\n",
    "            self.image_processor.image_mean,\n",
    "            self.image_processor.image_std,\n",
    "        )\n",
    "        size = self.image_processor.size[\"shortest_edge\"]\n",
    "        normalize = Normalize(mean=self.image_mean, std=self.image_std)\n",
    "        self.test_transforms = Compose(\n",
    "            [\n",
    "                Resize(size),\n",
    "                CenterCrop(size),\n",
    "                ToTensor(),\n",
    "                normalize,\n",
    "            ]\n",
    "        )\n",
    "\n",
    "    def __len__(self):\n",
    "        return len(self.image_paths)\n",
    "\n",
    "    def __getitem__(self, idx):\n",
    "        image_path = self.image_paths[idx]\n",
    "        with PIL.Image.open(image_path) as image:\n",
    "            inputs = self.test_transforms(image.convert(\"RGB\"))\n",
    "        return inputs, image_path.name"
   ]
  },
  {
   "cell_type": "code",
   "execution_count": 9,
   "id": "c1a08509",
   "metadata": {
    "execution": {
     "iopub.execute_input": "2024-11-20T07:06:54.067181Z",
     "iopub.status.busy": "2024-11-20T07:06:54.066523Z",
     "iopub.status.idle": "2024-11-20T07:06:58.202330Z",
     "shell.execute_reply": "2024-11-20T07:06:58.201363Z"
    },
    "papermill": {
     "duration": 4.142762,
     "end_time": "2024-11-20T07:06:58.204521",
     "exception": false,
     "start_time": "2024-11-20T07:06:54.061759",
     "status": "completed"
    },
    "tags": []
   },
   "outputs": [],
   "source": [
    "convnext_outputs = []\n",
    "\n",
    "dataset = CassavaDatasetConvNeXtV2(folder, image_processor)\n",
    "dataloader = DataLoader(dataset, batch_size=16)\n",
    "\n",
    "device = torch.device(\"cuda\" if torch.cuda.is_available() else \"cpu\")\n",
    "model.to(device)\n",
    "model.eval()\n",
    "\n",
    "with torch.no_grad():\n",
    "    for batch, image_names in dataloader:\n",
    "        outputs = model(batch.to(device))\n",
    "        # predictions = outputs.logits.argmax(dim=-1).cpu().numpy()\n",
    "        probabilities = F.softmax(outputs.logits, dim=-1).cpu().numpy()\n",
    "\n",
    "        convnext_outputs.extend(\n",
    "            {\"image_id\": image_name, \"output\": output}\n",
    "            for image_name, output in zip(image_names, probabilities)\n",
    "        )"
   ]
  },
  {
   "cell_type": "code",
   "execution_count": 10,
   "id": "1407420c",
   "metadata": {
    "execution": {
     "iopub.execute_input": "2024-11-20T07:06:58.214601Z",
     "iopub.status.busy": "2024-11-20T07:06:58.213991Z",
     "iopub.status.idle": "2024-11-20T07:06:58.217897Z",
     "shell.execute_reply": "2024-11-20T07:06:58.217235Z"
    },
    "papermill": {
     "duration": 0.010328,
     "end_time": "2024-11-20T07:06:58.219404",
     "exception": false,
     "start_time": "2024-11-20T07:06:58.209076",
     "status": "completed"
    },
    "tags": []
   },
   "outputs": [],
   "source": [
    "convnext_outputs = {x[\"image_id\"]: x[\"output\"] for x in convnext_outputs}"
   ]
  },
  {
   "cell_type": "code",
   "execution_count": 11,
   "id": "0904e60a",
   "metadata": {
    "execution": {
     "iopub.execute_input": "2024-11-20T07:06:58.228464Z",
     "iopub.status.busy": "2024-11-20T07:06:58.228232Z",
     "iopub.status.idle": "2024-11-20T07:06:58.694072Z",
     "shell.execute_reply": "2024-11-20T07:06:58.693150Z"
    },
    "papermill": {
     "duration": 0.472622,
     "end_time": "2024-11-20T07:06:58.696156",
     "exception": false,
     "start_time": "2024-11-20T07:06:58.223534",
     "status": "completed"
    },
    "tags": []
   },
   "outputs": [],
   "source": [
    "model.cpu()\n",
    "del model\n",
    "gc.collect()\n",
    "torch.cuda.empty_cache()"
   ]
  },
  {
   "cell_type": "markdown",
   "id": "b03c2ddf",
   "metadata": {
    "papermill": {
     "duration": 0.003967,
     "end_time": "2024-11-20T07:06:58.704527",
     "exception": false,
     "start_time": "2024-11-20T07:06:58.700560",
     "status": "completed"
    },
    "tags": []
   },
   "source": [
    "# CropNet (MobileNetV3)"
   ]
  },
  {
   "cell_type": "code",
   "execution_count": null,
   "id": "a90878c8",
   "metadata": {
    "execution": {
     "iopub.execute_input": "2024-11-20T07:06:58.714043Z",
     "iopub.status.busy": "2024-11-20T07:06:58.713452Z",
     "iopub.status.idle": "2024-11-20T07:07:03.693294Z",
     "shell.execute_reply": "2024-11-20T07:07:03.692492Z"
    },
    "papermill": {
     "duration": 4.98671,
     "end_time": "2024-11-20T07:07:03.695272",
     "exception": false,
     "start_time": "2024-11-20T07:06:58.708562",
     "status": "completed"
    },
    "tags": []
   },
   "outputs": [],
   "source": [
    "from huggingface_hub import from_pretrained_keras\n",
    "import tf_keras as keras\n",
    "from pathlib import Path\n",
    "import tensorflow as tf\n",
    "from PIL import Image\n",
    "\n",
    "model = from_pretrained_keras(\"/kaggle/input/cropnet-mobilenetv3/models\")\n",
    "\n",
    "image_size = 224\n",
    "resize_scale = 1.5\n",
    "image_resize_shape = int(resize_scale * image_size)\n",
    "batch_size = 32"
   ]
  },
  {
   "cell_type": "code",
   "execution_count": 13,
   "id": "f2d1ce44",
   "metadata": {
    "execution": {
     "iopub.execute_input": "2024-11-20T07:07:03.706312Z",
     "iopub.status.busy": "2024-11-20T07:07:03.705620Z",
     "iopub.status.idle": "2024-11-20T07:07:03.710877Z",
     "shell.execute_reply": "2024-11-20T07:07:03.710160Z"
    },
    "papermill": {
     "duration": 0.01253,
     "end_time": "2024-11-20T07:07:03.712501",
     "exception": false,
     "start_time": "2024-11-20T07:07:03.699971",
     "status": "completed"
    },
    "tags": []
   },
   "outputs": [],
   "source": [
    "val_transforms = [\n",
    "    lambda img: tf.image.resize(\n",
    "        img, (image_resize_shape, image_resize_shape)\n",
    "    ),\n",
    "    lambda img: tf.image.resize_with_crop_or_pad(\n",
    "        img, target_height=image_size, target_width=image_size\n",
    "    ),\n",
    "    lambda img: img / 255.0,\n",
    "]\n",
    "\n",
    "def val_image_transforms(image):\n",
    "    for fn in val_transforms:\n",
    "        image = fn(image)\n",
    "    return image\n",
    "\n",
    "def open_image(path):\n",
    "    with Image.open(path) as image:\n",
    "        image = keras.utils.img_to_array(image)\n",
    "    return val_image_transforms(image)"
   ]
  },
  {
   "cell_type": "code",
   "execution_count": 14,
   "id": "fcfc7ccc",
   "metadata": {
    "execution": {
     "iopub.execute_input": "2024-11-20T07:07:03.721730Z",
     "iopub.status.busy": "2024-11-20T07:07:03.721499Z",
     "iopub.status.idle": "2024-11-20T07:07:03.782156Z",
     "shell.execute_reply": "2024-11-20T07:07:03.781461Z"
    },
    "papermill": {
     "duration": 0.067588,
     "end_time": "2024-11-20T07:07:03.784190",
     "exception": false,
     "start_time": "2024-11-20T07:07:03.716602",
     "status": "completed"
    },
    "tags": []
   },
   "outputs": [],
   "source": [
    "folder = Path(\"/kaggle/input/cassava-leaf-disease-classification/test_images\")\n",
    "images = [(path.name, open_image(path)) for path in folder.glob(\"*\")]\n",
    "ids, inputs = map(list, zip(*images))\n",
    "\n",
    "input_data = tf.data.experimental.from_list(inputs).batch(batch_size).prefetch(tf.data.experimental.AUTOTUNE)"
   ]
  },
  {
   "cell_type": "code",
   "execution_count": null,
   "id": "5728a495",
   "metadata": {
    "execution": {
     "iopub.execute_input": "2024-11-20T07:07:03.793977Z",
     "iopub.status.busy": "2024-11-20T07:07:03.793703Z",
     "iopub.status.idle": "2024-11-20T07:07:10.244155Z",
     "shell.execute_reply": "2024-11-20T07:07:10.243361Z"
    },
    "papermill": {
     "duration": 6.457182,
     "end_time": "2024-11-20T07:07:10.245849",
     "exception": false,
     "start_time": "2024-11-20T07:07:03.788667",
     "status": "completed"
    },
    "tags": []
   },
   "outputs": [],
   "source": [
    "outputs = model.predict(input_data)[:, :-1]"
   ]
  },
  {
   "cell_type": "code",
   "execution_count": 16,
   "id": "17f769bb",
   "metadata": {
    "execution": {
     "iopub.execute_input": "2024-11-20T07:07:10.256065Z",
     "iopub.status.busy": "2024-11-20T07:07:10.255779Z",
     "iopub.status.idle": "2024-11-20T07:07:10.259932Z",
     "shell.execute_reply": "2024-11-20T07:07:10.259133Z"
    },
    "papermill": {
     "duration": 0.01112,
     "end_time": "2024-11-20T07:07:10.261501",
     "exception": false,
     "start_time": "2024-11-20T07:07:10.250381",
     "status": "completed"
    },
    "tags": []
   },
   "outputs": [],
   "source": [
    "cropnet_outputs = {id: output for id, output in zip(ids, outputs)}"
   ]
  },
  {
   "cell_type": "code",
   "execution_count": 17,
   "id": "87cbc132",
   "metadata": {
    "execution": {
     "iopub.execute_input": "2024-11-20T07:07:10.270906Z",
     "iopub.status.busy": "2024-11-20T07:07:10.270647Z",
     "iopub.status.idle": "2024-11-20T07:07:10.411904Z",
     "shell.execute_reply": "2024-11-20T07:07:10.410927Z"
    },
    "papermill": {
     "duration": 0.148303,
     "end_time": "2024-11-20T07:07:10.414120",
     "exception": false,
     "start_time": "2024-11-20T07:07:10.265817",
     "status": "completed"
    },
    "tags": []
   },
   "outputs": [],
   "source": [
    "device = cuda.get_current_device()\n",
    "device.reset()"
   ]
  },
  {
   "cell_type": "markdown",
   "id": "8899c709",
   "metadata": {
    "papermill": {
     "duration": 0.004085,
     "end_time": "2024-11-20T07:07:10.422698",
     "exception": false,
     "start_time": "2024-11-20T07:07:10.418613",
     "status": "completed"
    },
    "tags": []
   },
   "source": [
    "# Merging"
   ]
  },
  {
   "cell_type": "code",
   "execution_count": 18,
   "id": "e733975f",
   "metadata": {
    "execution": {
     "iopub.execute_input": "2024-11-20T07:07:10.432756Z",
     "iopub.status.busy": "2024-11-20T07:07:10.432034Z",
     "iopub.status.idle": "2024-11-20T07:07:10.436395Z",
     "shell.execute_reply": "2024-11-20T07:07:10.435669Z"
    },
    "papermill": {
     "duration": 0.011177,
     "end_time": "2024-11-20T07:07:10.438186",
     "exception": false,
     "start_time": "2024-11-20T07:07:10.427009",
     "status": "completed"
    },
    "tags": []
   },
   "outputs": [],
   "source": [
    "def confidence(output):\n",
    "    return (np.exp(2 * output - 1) + np.exp(-2 * output + 1)) / (np.e + 1 / np.e) * output"
   ]
  },
  {
   "cell_type": "code",
   "execution_count": 19,
   "id": "a02dc867",
   "metadata": {
    "execution": {
     "iopub.execute_input": "2024-11-20T07:07:10.448530Z",
     "iopub.status.busy": "2024-11-20T07:07:10.447886Z",
     "iopub.status.idle": "2024-11-20T07:07:10.454024Z",
     "shell.execute_reply": "2024-11-20T07:07:10.453132Z"
    },
    "papermill": {
     "duration": 0.012975,
     "end_time": "2024-11-20T07:07:10.455721",
     "exception": false,
     "start_time": "2024-11-20T07:07:10.442746",
     "status": "completed"
    },
    "tags": []
   },
   "outputs": [],
   "source": [
    "final_answers = []\n",
    "for image_id in vit_outputs.keys():\n",
    "    vit_output = vit_outputs[image_id]\n",
    "    vit_conf = confidence(vit_output)\n",
    "    convnext_output = convnext_outputs[image_id]\n",
    "    convnext_conf = confidence(convnext_output)\n",
    "    cropnet_output = cropnet_outputs[image_id]\n",
    "    cropnet_conf = confidence(cropnet_output)\n",
    "    final_output = vit_output * vit_conf + convnext_output * convnext_conf + cropnet_output * cropnet_conf\n",
    "    final_answers.append({\"image_id\": image_id, \"label\": np.argmax(final_output)})"
   ]
  },
  {
   "cell_type": "code",
   "execution_count": 20,
   "id": "ad246787",
   "metadata": {
    "execution": {
     "iopub.execute_input": "2024-11-20T07:07:10.465615Z",
     "iopub.status.busy": "2024-11-20T07:07:10.465393Z",
     "iopub.status.idle": "2024-11-20T07:07:10.471268Z",
     "shell.execute_reply": "2024-11-20T07:07:10.470458Z"
    },
    "papermill": {
     "duration": 0.01251,
     "end_time": "2024-11-20T07:07:10.472891",
     "exception": false,
     "start_time": "2024-11-20T07:07:10.460381",
     "status": "completed"
    },
    "tags": []
   },
   "outputs": [],
   "source": [
    "df = pd.DataFrame(final_answers)"
   ]
  },
  {
   "cell_type": "code",
   "execution_count": null,
   "id": "fa4399a5",
   "metadata": {
    "execution": {
     "iopub.execute_input": "2024-11-20T07:07:10.482313Z",
     "iopub.status.busy": "2024-11-20T07:07:10.482049Z",
     "iopub.status.idle": "2024-11-20T07:07:10.496066Z",
     "shell.execute_reply": "2024-11-20T07:07:10.495323Z"
    },
    "papermill": {
     "duration": 0.02049,
     "end_time": "2024-11-20T07:07:10.497662",
     "exception": false,
     "start_time": "2024-11-20T07:07:10.477172",
     "status": "completed"
    },
    "tags": []
   },
   "outputs": [],
   "source": [
    "df.head()"
   ]
  },
  {
   "cell_type": "code",
   "execution_count": 22,
   "id": "dafdc7f0",
   "metadata": {
    "execution": {
     "iopub.execute_input": "2024-11-20T07:07:10.507579Z",
     "iopub.status.busy": "2024-11-20T07:07:10.507328Z",
     "iopub.status.idle": "2024-11-20T07:07:10.514247Z",
     "shell.execute_reply": "2024-11-20T07:07:10.513407Z"
    },
    "papermill": {
     "duration": 0.013771,
     "end_time": "2024-11-20T07:07:10.515919",
     "exception": false,
     "start_time": "2024-11-20T07:07:10.502148",
     "status": "completed"
    },
    "tags": []
   },
   "outputs": [],
   "source": [
    "df.to_csv(\"submission.csv\", index=False)"
   ]
  },
  {
   "cell_type": "code",
   "execution_count": null,
   "id": "c9af71b1",
   "metadata": {
    "papermill": {
     "duration": 0.004181,
     "end_time": "2024-11-20T07:07:10.524410",
     "exception": false,
     "start_time": "2024-11-20T07:07:10.520229",
     "status": "completed"
    },
    "tags": []
   },
   "outputs": [],
   "source": []
  }
 ],
 "metadata": {
  "kaggle": {
   "accelerator": "gpu",
   "dataSources": [
    {
     "databundleVersionId": 1718836,
     "sourceId": 13836,
     "sourceType": "competition"
    },
    {
     "datasetId": 5938625,
     "sourceId": 9709258,
     "sourceType": "datasetVersion"
    },
    {
     "datasetId": 5940211,
     "sourceId": 9711322,
     "sourceType": "datasetVersion"
    },
    {
     "datasetId": 5959843,
     "sourceId": 9737461,
     "sourceType": "datasetVersion"
    }
   ],
   "dockerImageVersionId": 30787,
   "isGpuEnabled": true,
   "isInternetEnabled": false,
   "language": "python",
   "sourceType": "notebook"
  },
  "kernelspec": {
   "display_name": "Python 3",
   "language": "python",
   "name": "python3"
  },
  "language_info": {
   "codemirror_mode": {
    "name": "ipython",
    "version": 3
   },
   "file_extension": ".py",
   "mimetype": "text/x-python",
   "name": "python",
   "nbconvert_exporter": "python",
   "pygments_lexer": "ipython3",
   "version": "3.10.14"
  },
  "papermill": {
   "default_parameters": {},
   "duration": 63.702934,
   "end_time": "2024-11-20T07:07:13.444568",
   "environment_variables": {},
   "exception": null,
   "input_path": "__notebook__.ipynb",
   "output_path": "__notebook__.ipynb",
   "parameters": {},
   "start_time": "2024-11-20T07:06:09.741634",
   "version": "2.6.0"
  }
 },
 "nbformat": 4,
 "nbformat_minor": 5
}
